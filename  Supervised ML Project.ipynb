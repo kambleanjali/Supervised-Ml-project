{
 "cells": [
  {
   "cell_type": "code",
   "execution_count": 1,
   "id": "27d4b853",
   "metadata": {},
   "outputs": [],
   "source": [
    "# Supervised ML Project\n"
   ]
  },
  {
   "cell_type": "code",
   "execution_count": 2,
   "id": "af0d5a54",
   "metadata": {},
   "outputs": [],
   "source": [
    "#import the basic module\n",
    "import pandas as pd\n",
    "import numpy as nb\n",
    "import seaborn as sb\n",
    "import matplotlib.pyplot as plt\n",
    "import warnings as w\n",
    "w.filterwarnings('ignore')"
   ]
  },
  {
   "cell_type": "code",
   "execution_count": 3,
   "id": "126f5dfd",
   "metadata": {},
   "outputs": [],
   "source": [
    "# loading dataset of kaggle_diabetes.csv file by using read_csv() inbuilt function of pandas library\n",
    "#and  creating a df object\n",
    "df=pd.read_csv('kaggle_diabetes.csv')"
   ]
  },
  {
   "cell_type": "code",
   "execution_count": 4,
   "id": "20dd7919",
   "metadata": {},
   "outputs": [
    {
     "data": {
      "text/html": [
       "<div>\n",
       "<style scoped>\n",
       "    .dataframe tbody tr th:only-of-type {\n",
       "        vertical-align: middle;\n",
       "    }\n",
       "\n",
       "    .dataframe tbody tr th {\n",
       "        vertical-align: top;\n",
       "    }\n",
       "\n",
       "    .dataframe thead th {\n",
       "        text-align: right;\n",
       "    }\n",
       "</style>\n",
       "<table border=\"1\" class=\"dataframe\">\n",
       "  <thead>\n",
       "    <tr style=\"text-align: right;\">\n",
       "      <th></th>\n",
       "      <th>Pregnancies</th>\n",
       "      <th>Glucose</th>\n",
       "      <th>BloodPressure</th>\n",
       "      <th>SkinThickness</th>\n",
       "      <th>Insulin</th>\n",
       "      <th>BMI</th>\n",
       "      <th>DiabetesPedigreeFunction</th>\n",
       "      <th>Age</th>\n",
       "      <th>Outcome</th>\n",
       "    </tr>\n",
       "  </thead>\n",
       "  <tbody>\n",
       "    <tr>\n",
       "      <th>0</th>\n",
       "      <td>2</td>\n",
       "      <td>138</td>\n",
       "      <td>62</td>\n",
       "      <td>35</td>\n",
       "      <td>0</td>\n",
       "      <td>33.6</td>\n",
       "      <td>0.127</td>\n",
       "      <td>47</td>\n",
       "      <td>1</td>\n",
       "    </tr>\n",
       "    <tr>\n",
       "      <th>1</th>\n",
       "      <td>0</td>\n",
       "      <td>84</td>\n",
       "      <td>82</td>\n",
       "      <td>31</td>\n",
       "      <td>125</td>\n",
       "      <td>38.2</td>\n",
       "      <td>0.233</td>\n",
       "      <td>23</td>\n",
       "      <td>0</td>\n",
       "    </tr>\n",
       "    <tr>\n",
       "      <th>2</th>\n",
       "      <td>0</td>\n",
       "      <td>145</td>\n",
       "      <td>0</td>\n",
       "      <td>0</td>\n",
       "      <td>0</td>\n",
       "      <td>44.2</td>\n",
       "      <td>0.630</td>\n",
       "      <td>31</td>\n",
       "      <td>1</td>\n",
       "    </tr>\n",
       "    <tr>\n",
       "      <th>3</th>\n",
       "      <td>0</td>\n",
       "      <td>135</td>\n",
       "      <td>68</td>\n",
       "      <td>42</td>\n",
       "      <td>250</td>\n",
       "      <td>42.3</td>\n",
       "      <td>0.365</td>\n",
       "      <td>24</td>\n",
       "      <td>1</td>\n",
       "    </tr>\n",
       "    <tr>\n",
       "      <th>4</th>\n",
       "      <td>1</td>\n",
       "      <td>139</td>\n",
       "      <td>62</td>\n",
       "      <td>41</td>\n",
       "      <td>480</td>\n",
       "      <td>40.7</td>\n",
       "      <td>0.536</td>\n",
       "      <td>21</td>\n",
       "      <td>0</td>\n",
       "    </tr>\n",
       "    <tr>\n",
       "      <th>...</th>\n",
       "      <td>...</td>\n",
       "      <td>...</td>\n",
       "      <td>...</td>\n",
       "      <td>...</td>\n",
       "      <td>...</td>\n",
       "      <td>...</td>\n",
       "      <td>...</td>\n",
       "      <td>...</td>\n",
       "      <td>...</td>\n",
       "    </tr>\n",
       "    <tr>\n",
       "      <th>1995</th>\n",
       "      <td>2</td>\n",
       "      <td>75</td>\n",
       "      <td>64</td>\n",
       "      <td>24</td>\n",
       "      <td>55</td>\n",
       "      <td>29.7</td>\n",
       "      <td>0.370</td>\n",
       "      <td>33</td>\n",
       "      <td>0</td>\n",
       "    </tr>\n",
       "    <tr>\n",
       "      <th>1996</th>\n",
       "      <td>8</td>\n",
       "      <td>179</td>\n",
       "      <td>72</td>\n",
       "      <td>42</td>\n",
       "      <td>130</td>\n",
       "      <td>32.7</td>\n",
       "      <td>0.719</td>\n",
       "      <td>36</td>\n",
       "      <td>1</td>\n",
       "    </tr>\n",
       "    <tr>\n",
       "      <th>1997</th>\n",
       "      <td>6</td>\n",
       "      <td>85</td>\n",
       "      <td>78</td>\n",
       "      <td>0</td>\n",
       "      <td>0</td>\n",
       "      <td>31.2</td>\n",
       "      <td>0.382</td>\n",
       "      <td>42</td>\n",
       "      <td>0</td>\n",
       "    </tr>\n",
       "    <tr>\n",
       "      <th>1998</th>\n",
       "      <td>0</td>\n",
       "      <td>129</td>\n",
       "      <td>110</td>\n",
       "      <td>46</td>\n",
       "      <td>130</td>\n",
       "      <td>67.1</td>\n",
       "      <td>0.319</td>\n",
       "      <td>26</td>\n",
       "      <td>1</td>\n",
       "    </tr>\n",
       "    <tr>\n",
       "      <th>1999</th>\n",
       "      <td>2</td>\n",
       "      <td>81</td>\n",
       "      <td>72</td>\n",
       "      <td>15</td>\n",
       "      <td>76</td>\n",
       "      <td>30.1</td>\n",
       "      <td>0.547</td>\n",
       "      <td>25</td>\n",
       "      <td>0</td>\n",
       "    </tr>\n",
       "  </tbody>\n",
       "</table>\n",
       "<p>2000 rows × 9 columns</p>\n",
       "</div>"
      ],
      "text/plain": [
       "      Pregnancies  Glucose  BloodPressure  SkinThickness  Insulin   BMI  \\\n",
       "0               2      138             62             35        0  33.6   \n",
       "1               0       84             82             31      125  38.2   \n",
       "2               0      145              0              0        0  44.2   \n",
       "3               0      135             68             42      250  42.3   \n",
       "4               1      139             62             41      480  40.7   \n",
       "...           ...      ...            ...            ...      ...   ...   \n",
       "1995            2       75             64             24       55  29.7   \n",
       "1996            8      179             72             42      130  32.7   \n",
       "1997            6       85             78              0        0  31.2   \n",
       "1998            0      129            110             46      130  67.1   \n",
       "1999            2       81             72             15       76  30.1   \n",
       "\n",
       "      DiabetesPedigreeFunction  Age  Outcome  \n",
       "0                        0.127   47        1  \n",
       "1                        0.233   23        0  \n",
       "2                        0.630   31        1  \n",
       "3                        0.365   24        1  \n",
       "4                        0.536   21        0  \n",
       "...                        ...  ...      ...  \n",
       "1995                     0.370   33        0  \n",
       "1996                     0.719   36        1  \n",
       "1997                     0.382   42        0  \n",
       "1998                     0.319   26        1  \n",
       "1999                     0.547   25        0  \n",
       "\n",
       "[2000 rows x 9 columns]"
      ]
     },
     "execution_count": 4,
     "metadata": {},
     "output_type": "execute_result"
    }
   ],
   "source": [
    "df"
   ]
  },
  {
   "cell_type": "code",
   "execution_count": 5,
   "id": "248b77c4",
   "metadata": {},
   "outputs": [
    {
     "name": "stdout",
     "output_type": "stream",
     "text": [
      "<class 'pandas.core.frame.DataFrame'>\n",
      "RangeIndex: 2000 entries, 0 to 1999\n",
      "Data columns (total 9 columns):\n",
      " #   Column                    Non-Null Count  Dtype  \n",
      "---  ------                    --------------  -----  \n",
      " 0   Pregnancies               2000 non-null   int64  \n",
      " 1   Glucose                   2000 non-null   int64  \n",
      " 2   BloodPressure             2000 non-null   int64  \n",
      " 3   SkinThickness             2000 non-null   int64  \n",
      " 4   Insulin                   2000 non-null   int64  \n",
      " 5   BMI                       2000 non-null   float64\n",
      " 6   DiabetesPedigreeFunction  2000 non-null   float64\n",
      " 7   Age                       2000 non-null   int64  \n",
      " 8   Outcome                   2000 non-null   int64  \n",
      "dtypes: float64(2), int64(7)\n",
      "memory usage: 140.8 KB\n"
     ]
    }
   ],
   "source": [
    "#checking the sumarry of dataframe.\n",
    "df.info()"
   ]
  },
  {
   "cell_type": "code",
   "execution_count": 6,
   "id": "61a25784",
   "metadata": {},
   "outputs": [
    {
     "data": {
      "text/plain": [
       "Pregnancies                 0\n",
       "Glucose                     0\n",
       "BloodPressure               0\n",
       "SkinThickness               0\n",
       "Insulin                     0\n",
       "BMI                         0\n",
       "DiabetesPedigreeFunction    0\n",
       "Age                         0\n",
       "Outcome                     0\n",
       "dtype: int64"
      ]
     },
     "execution_count": 6,
     "metadata": {},
     "output_type": "execute_result"
    }
   ],
   "source": [
    "#checking null values \n",
    "df.isnull().sum()"
   ]
  },
  {
   "cell_type": "markdown",
   "id": "04218a53",
   "metadata": {},
   "source": [
    "observation:\n",
    "    There is no null values in dataset."
   ]
  },
  {
   "cell_type": "code",
   "execution_count": 7,
   "id": "13061c67",
   "metadata": {},
   "outputs": [
    {
     "data": {
      "text/plain": [
       "Pregnancies                   int64\n",
       "Glucose                       int64\n",
       "BloodPressure                 int64\n",
       "SkinThickness                 int64\n",
       "Insulin                       int64\n",
       "BMI                         float64\n",
       "DiabetesPedigreeFunction    float64\n",
       "Age                           int64\n",
       "Outcome                       int64\n",
       "dtype: object"
      ]
     },
     "execution_count": 7,
     "metadata": {},
     "output_type": "execute_result"
    }
   ],
   "source": [
    "#cross check null values with checking the datatype of dataframe\n",
    "df.dtypes"
   ]
  },
  {
   "cell_type": "code",
   "execution_count": 8,
   "id": "cd197a56",
   "metadata": {},
   "outputs": [
    {
     "data": {
      "text/plain": [
       "<AxesSubplot:>"
      ]
     },
     "execution_count": 8,
     "metadata": {},
     "output_type": "execute_result"
    },
    {
     "data": {
      "image/png": "[encoded data removed]",
      "text/plain": [
       "<Figure size 432x288 with 2 Axes>"
      ]
     },
     "metadata": {
      "needs_background": "light"
     },
     "output_type": "display_data"
    }
   ],
   "source": [
    "#checking null values in visualization form.\n",
    "sb.heatmap(df.isnull())"
   ]
  },
  {
   "cell_type": "code",
   "execution_count": 9,
   "id": "c6f1adb3",
   "metadata": {},
   "outputs": [
    {
     "data": {
      "text/plain": [
       "1256"
      ]
     },
     "execution_count": 9,
     "metadata": {},
     "output_type": "execute_result"
    }
   ],
   "source": [
    "#checking dublicate values.\n",
    "df.duplicated().sum()"
   ]
  },
  {
   "cell_type": "markdown",
   "id": "ddd0ca28",
   "metadata": {},
   "source": [
    "observation:\n",
    "    there is 1256 duplicates are present in dataset."
   ]
  },
  {
   "cell_type": "code",
   "execution_count": 10,
   "id": "6f4699f6",
   "metadata": {},
   "outputs": [
    {
     "data": {
      "text/html": [
       "<div>\n",
       "<style scoped>\n",
       "    .dataframe tbody tr th:only-of-type {\n",
       "        vertical-align: middle;\n",
       "    }\n",
       "\n",
       "    .dataframe tbody tr th {\n",
       "        vertical-align: top;\n",
       "    }\n",
       "\n",
       "    .dataframe thead th {\n",
       "        text-align: right;\n",
       "    }\n",
       "</style>\n",
       "<table border=\"1\" class=\"dataframe\">\n",
       "  <thead>\n",
       "    <tr style=\"text-align: right;\">\n",
       "      <th></th>\n",
       "      <th>Pregnancies</th>\n",
       "      <th>Glucose</th>\n",
       "      <th>BloodPressure</th>\n",
       "      <th>SkinThickness</th>\n",
       "      <th>Insulin</th>\n",
       "      <th>BMI</th>\n",
       "      <th>DiabetesPedigreeFunction</th>\n",
       "      <th>Age</th>\n",
       "      <th>Outcome</th>\n",
       "    </tr>\n",
       "  </thead>\n",
       "  <tbody>\n",
       "    <tr>\n",
       "      <th>483</th>\n",
       "      <td>0</td>\n",
       "      <td>84</td>\n",
       "      <td>82</td>\n",
       "      <td>31</td>\n",
       "      <td>125</td>\n",
       "      <td>38.2</td>\n",
       "      <td>0.233</td>\n",
       "      <td>23</td>\n",
       "      <td>0</td>\n",
       "    </tr>\n",
       "    <tr>\n",
       "      <th>484</th>\n",
       "      <td>0</td>\n",
       "      <td>145</td>\n",
       "      <td>0</td>\n",
       "      <td>0</td>\n",
       "      <td>0</td>\n",
       "      <td>44.2</td>\n",
       "      <td>0.630</td>\n",
       "      <td>31</td>\n",
       "      <td>1</td>\n",
       "    </tr>\n",
       "    <tr>\n",
       "      <th>485</th>\n",
       "      <td>0</td>\n",
       "      <td>135</td>\n",
       "      <td>68</td>\n",
       "      <td>42</td>\n",
       "      <td>250</td>\n",
       "      <td>42.3</td>\n",
       "      <td>0.365</td>\n",
       "      <td>24</td>\n",
       "      <td>1</td>\n",
       "    </tr>\n",
       "    <tr>\n",
       "      <th>486</th>\n",
       "      <td>1</td>\n",
       "      <td>139</td>\n",
       "      <td>62</td>\n",
       "      <td>41</td>\n",
       "      <td>480</td>\n",
       "      <td>40.7</td>\n",
       "      <td>0.536</td>\n",
       "      <td>21</td>\n",
       "      <td>0</td>\n",
       "    </tr>\n",
       "    <tr>\n",
       "      <th>487</th>\n",
       "      <td>0</td>\n",
       "      <td>173</td>\n",
       "      <td>78</td>\n",
       "      <td>32</td>\n",
       "      <td>265</td>\n",
       "      <td>46.5</td>\n",
       "      <td>1.159</td>\n",
       "      <td>58</td>\n",
       "      <td>0</td>\n",
       "    </tr>\n",
       "    <tr>\n",
       "      <th>...</th>\n",
       "      <td>...</td>\n",
       "      <td>...</td>\n",
       "      <td>...</td>\n",
       "      <td>...</td>\n",
       "      <td>...</td>\n",
       "      <td>...</td>\n",
       "      <td>...</td>\n",
       "      <td>...</td>\n",
       "      <td>...</td>\n",
       "    </tr>\n",
       "    <tr>\n",
       "      <th>1995</th>\n",
       "      <td>2</td>\n",
       "      <td>75</td>\n",
       "      <td>64</td>\n",
       "      <td>24</td>\n",
       "      <td>55</td>\n",
       "      <td>29.7</td>\n",
       "      <td>0.370</td>\n",
       "      <td>33</td>\n",
       "      <td>0</td>\n",
       "    </tr>\n",
       "    <tr>\n",
       "      <th>1996</th>\n",
       "      <td>8</td>\n",
       "      <td>179</td>\n",
       "      <td>72</td>\n",
       "      <td>42</td>\n",
       "      <td>130</td>\n",
       "      <td>32.7</td>\n",
       "      <td>0.719</td>\n",
       "      <td>36</td>\n",
       "      <td>1</td>\n",
       "    </tr>\n",
       "    <tr>\n",
       "      <th>1997</th>\n",
       "      <td>6</td>\n",
       "      <td>85</td>\n",
       "      <td>78</td>\n",
       "      <td>0</td>\n",
       "      <td>0</td>\n",
       "      <td>31.2</td>\n",
       "      <td>0.382</td>\n",
       "      <td>42</td>\n",
       "      <td>0</td>\n",
       "    </tr>\n",
       "    <tr>\n",
       "      <th>1998</th>\n",
       "      <td>0</td>\n",
       "      <td>129</td>\n",
       "      <td>110</td>\n",
       "      <td>46</td>\n",
       "      <td>130</td>\n",
       "      <td>67.1</td>\n",
       "      <td>0.319</td>\n",
       "      <td>26</td>\n",
       "      <td>1</td>\n",
       "    </tr>\n",
       "    <tr>\n",
       "      <th>1999</th>\n",
       "      <td>2</td>\n",
       "      <td>81</td>\n",
       "      <td>72</td>\n",
       "      <td>15</td>\n",
       "      <td>76</td>\n",
       "      <td>30.1</td>\n",
       "      <td>0.547</td>\n",
       "      <td>25</td>\n",
       "      <td>0</td>\n",
       "    </tr>\n",
       "  </tbody>\n",
       "</table>\n",
       "<p>1256 rows × 9 columns</p>\n",
       "</div>"
      ],
      "text/plain": [
       "      Pregnancies  Glucose  BloodPressure  SkinThickness  Insulin   BMI  \\\n",
       "483             0       84             82             31      125  38.2   \n",
       "484             0      145              0              0        0  44.2   \n",
       "485             0      135             68             42      250  42.3   \n",
       "486             1      139             62             41      480  40.7   \n",
       "487             0      173             78             32      265  46.5   \n",
       "...           ...      ...            ...            ...      ...   ...   \n",
       "1995            2       75             64             24       55  29.7   \n",
       "1996            8      179             72             42      130  32.7   \n",
       "1997            6       85             78              0        0  31.2   \n",
       "1998            0      129            110             46      130  67.1   \n",
       "1999            2       81             72             15       76  30.1   \n",
       "\n",
       "      DiabetesPedigreeFunction  Age  Outcome  \n",
       "483                      0.233   23        0  \n",
       "484                      0.630   31        1  \n",
       "485                      0.365   24        1  \n",
       "486                      0.536   21        0  \n",
       "487                      1.159   58        0  \n",
       "...                        ...  ...      ...  \n",
       "1995                     0.370   33        0  \n",
       "1996                     0.719   36        1  \n",
       "1997                     0.382   42        0  \n",
       "1998                     0.319   26        1  \n",
       "1999                     0.547   25        0  \n",
       "\n",
       "[1256 rows x 9 columns]"
      ]
     },
     "execution_count": 10,
     "metadata": {},
     "output_type": "execute_result"
    }
   ],
   "source": [
    "#if i want to see duplicat row.\n",
    "df[df.duplicated()]"
   ]
  },
  {
   "cell_type": "code",
   "execution_count": 11,
   "id": "6139158a",
   "metadata": {},
   "outputs": [],
   "source": [
    "# remove duplicates values premanent\n",
    "df.drop_duplicates(inplace=True)"
   ]
  },
  {
   "cell_type": "code",
   "execution_count": 12,
   "id": "65cabe2d",
   "metadata": {},
   "outputs": [
    {
     "data": {
      "text/plain": [
       "0"
      ]
     },
     "execution_count": 12,
     "metadata": {},
     "output_type": "execute_result"
    }
   ],
   "source": [
    "df.duplicated().sum()"
   ]
  },
  {
   "cell_type": "code",
   "execution_count": 13,
   "id": "a80a1317",
   "metadata": {},
   "outputs": [
    {
     "data": {
      "text/plain": [
       "0    491\n",
       "1    253\n",
       "Name: Outcome, dtype: int64"
      ]
     },
     "execution_count": 13,
     "metadata": {},
     "output_type": "execute_result"
    }
   ],
   "source": [
    "#now checking the frequency of binary classifier of outcome column\n",
    "df['Outcome'].value_counts()"
   ]
  },
  {
   "cell_type": "code",
   "execution_count": 14,
   "id": "a50b4658",
   "metadata": {},
   "outputs": [
    {
     "data": {
      "image/png": "[encoded data removed]",
      "text/plain": [
       "<Figure size 432x288 with 1 Axes>"
      ]
     },
     "metadata": {
      "needs_background": "light"
     },
     "output_type": "display_data"
    }
   ],
   "source": [
    "#if i want to visualize the binary classifier are balance or unbalanced\n",
    "sb.countplot(data=df,x='Outcome')\n",
    "f=df['Outcome'].value_counts()\n",
    "plt.yticks(f)\n",
    "plt.show()"
   ]
  },
  {
   "cell_type": "markdown",
   "id": "41fb903f",
   "metadata": {},
   "source": [
    "observation:\n",
    "    its a balance scale."
   ]
  },
  {
   "cell_type": "code",
   "execution_count": 15,
   "id": "112bf72a",
   "metadata": {},
   "outputs": [],
   "source": [
    "#select the input and output\n",
    "x=df.drop('Outcome',axis=1)\n",
    "y=df['Outcome']"
   ]
  },
  {
   "cell_type": "code",
   "execution_count": 16,
   "id": "428bf167",
   "metadata": {},
   "outputs": [],
   "source": [
    "#preparing the model by dividing data into 70:30 ratio\n",
    "#by using train_test_split of sklearn library\n",
    "from sklearn.model_selection import train_test_split\n",
    "#creating an object\n",
    "x_train,x_test,y_train,y_test=train_test_split(x,y,test_size=0.3,random_state=1)"
   ]
  },
  {
   "cell_type": "code",
   "execution_count": 17,
   "id": "7b46d004",
   "metadata": {},
   "outputs": [],
   "source": [
    "#create a function \n",
    "def create_model (model):   #model is parameter which gonna hold the object of algo\n",
    "    #train the model\n",
    "    model.fit(x_train,y_train)\n",
    "    #test the model\n",
    "    y_predict=model.predict(x_test)\n",
    "    #generating the report\n",
    "    from sklearn.metrics import classification_report\n",
    "    print(classification_report(y_test,y_predict))\n",
    "    from sklearn.metrics import confusion_matrix\n",
    "    print(confusion_matrix(y_test,y_predict))\n",
    "    return model"
   ]
  },
  {
   "cell_type": "code",
   "execution_count": 18,
   "id": "05619ed3",
   "metadata": {},
   "outputs": [],
   "source": [
    "#now before giving the data to the machine we have to do scaling\n",
    "from sklearn.preprocessing import StandardScaler\n",
    "ss=StandardScaler()\n",
    "x_train=ss.fit_transform(x_train)\n",
    "x_test=ss.transform(x_test)"
   ]
  },
  {
   "cell_type": "code",
   "execution_count": 19,
   "id": "9964c2b3",
   "metadata": {},
   "outputs": [],
   "source": [
    "#training the model by using logistic regression class of sklearn library\n",
    "from sklearn.linear_model import LogisticRegression\n",
    "#creating an object of LogisticRegression class\n",
    "lr=LogisticRegression()\n"
   ]
  },
  {
   "cell_type": "code",
   "execution_count": 20,
   "id": "8c8d0898",
   "metadata": {},
   "outputs": [
    {
     "name": "stdout",
     "output_type": "stream",
     "text": [
      "              precision    recall  f1-score   support\n",
      "\n",
      "           0       0.83      0.87      0.85       154\n",
      "           1       0.68      0.60      0.64        70\n",
      "\n",
      "    accuracy                           0.79       224\n",
      "   macro avg       0.75      0.74      0.74       224\n",
      "weighted avg       0.78      0.79      0.78       224\n",
      "\n",
      "[[134  20]\n",
      " [ 28  42]]\n"
     ]
    }
   ],
   "source": [
    "#generate then classification report\n",
    "lr=create_model(lr)"
   ]
  },
  {
   "cell_type": "code",
   "execution_count": 21,
   "id": "a0beadcd",
   "metadata": {},
   "outputs": [],
   "source": [
    "#the accuracy is not good.\n"
   ]
  },
  {
   "cell_type": "raw",
   "id": "fd37a49f",
   "metadata": {},
   "source": [
    "observation:\n",
    "    in logistic regression the recall accuracy is \n",
    "    0:87\n",
    "    1:60\n",
    "so the recall accuracy is not good .        "
   ]
  },
  {
   "cell_type": "markdown",
   "id": "7de24923",
   "metadata": {},
   "source": [
    "# Decision Tree"
   ]
  },
  {
   "cell_type": "code",
   "execution_count": 22,
   "id": "d3547e55",
   "metadata": {},
   "outputs": [
    {
     "name": "stdout",
     "output_type": "stream",
     "text": [
      "              precision    recall  f1-score   support\n",
      "\n",
      "           0       0.74      0.66      0.69       154\n",
      "           1       0.39      0.49      0.43        70\n",
      "\n",
      "    accuracy                           0.60       224\n",
      "   macro avg       0.56      0.57      0.56       224\n",
      "weighted avg       0.63      0.60      0.61       224\n",
      "\n",
      "[[101  53]\n",
      " [ 36  34]]\n"
     ]
    }
   ],
   "source": [
    "#now we use decision tree for selecting the important feature.\n",
    "#beacuse logistic regression doesn't select the feature.\n",
    "#decision tree also inreace the accuacry score.\n",
    "#import Decision tree class\n",
    "from sklearn.tree import DecisionTreeClassifier\n",
    "#create the object the Decisiontreeclassifier\n",
    "dt=DecisionTreeClassifier()\n",
    "#call dtc funcation\n",
    "dt=create_model(dt)"
   ]
  },
  {
   "cell_type": "raw",
   "id": "c6b57ee2",
   "metadata": {},
   "source": [
    "observation:\n",
    "    in DecisionTree algorithm recall accuracy of \n",
    "    0:66 \n",
    "    1:54\n",
    "the accuracy is good. but it must be show recall accuracy good beacuse of overfiting in model.       "
   ]
  },
  {
   "cell_type": "code",
   "execution_count": 23,
   "id": "3e3ecf0b",
   "metadata": {},
   "outputs": [
    {
     "data": {
      "text/plain": [
       "array([0.06030807, 0.31472673, 0.09728981, 0.05876096, 0.03431427,\n",
       "       0.15195854, 0.1573555 , 0.12528612])"
      ]
     },
     "execution_count": 23,
     "metadata": {},
     "output_type": "execute_result"
    }
   ],
   "source": [
    "#if i want to check the information gain value return to DecisionTreeClassifier class object\n",
    "dt.feature_importances_"
   ]
  },
  {
   "cell_type": "code",
   "execution_count": 24,
   "id": "de47a1e2",
   "metadata": {},
   "outputs": [
    {
     "data": {
      "text/plain": [
       "Index(['Pregnancies', 'Glucose', 'BloodPressure', 'SkinThickness', 'Insulin',\n",
       "       'BMI', 'DiabetesPedigreeFunction', 'Age'],\n",
       "      dtype='object')"
      ]
     },
     "execution_count": 24,
     "metadata": {},
     "output_type": "execute_result"
    }
   ],
   "source": [
    "x.columns"
   ]
  },
  {
   "cell_type": "code",
   "execution_count": 25,
   "id": "c7ea5165",
   "metadata": {},
   "outputs": [
    {
     "data": {
      "text/html": [
       "<div>\n",
       "<style scoped>\n",
       "    .dataframe tbody tr th:only-of-type {\n",
       "        vertical-align: middle;\n",
       "    }\n",
       "\n",
       "    .dataframe tbody tr th {\n",
       "        vertical-align: top;\n",
       "    }\n",
       "\n",
       "    .dataframe thead th {\n",
       "        text-align: right;\n",
       "    }\n",
       "</style>\n",
       "<table border=\"1\" class=\"dataframe\">\n",
       "  <thead>\n",
       "    <tr style=\"text-align: right;\">\n",
       "      <th></th>\n",
       "      <th>input</th>\n",
       "      <th>ig</th>\n",
       "    </tr>\n",
       "  </thead>\n",
       "  <tbody>\n",
       "    <tr>\n",
       "      <th>0</th>\n",
       "      <td>Glucose</td>\n",
       "      <td>0.314727</td>\n",
       "    </tr>\n",
       "    <tr>\n",
       "      <th>1</th>\n",
       "      <td>DiabetesPedigreeFunction</td>\n",
       "      <td>0.157355</td>\n",
       "    </tr>\n",
       "    <tr>\n",
       "      <th>2</th>\n",
       "      <td>BMI</td>\n",
       "      <td>0.151959</td>\n",
       "    </tr>\n",
       "    <tr>\n",
       "      <th>3</th>\n",
       "      <td>Age</td>\n",
       "      <td>0.125286</td>\n",
       "    </tr>\n",
       "    <tr>\n",
       "      <th>4</th>\n",
       "      <td>BloodPressure</td>\n",
       "      <td>0.097290</td>\n",
       "    </tr>\n",
       "    <tr>\n",
       "      <th>5</th>\n",
       "      <td>Pregnancies</td>\n",
       "      <td>0.060308</td>\n",
       "    </tr>\n",
       "    <tr>\n",
       "      <th>6</th>\n",
       "      <td>SkinThickness</td>\n",
       "      <td>0.058761</td>\n",
       "    </tr>\n",
       "    <tr>\n",
       "      <th>7</th>\n",
       "      <td>Insulin</td>\n",
       "      <td>0.034314</td>\n",
       "    </tr>\n",
       "  </tbody>\n",
       "</table>\n",
       "</div>"
      ],
      "text/plain": [
       "                      input        ig\n",
       "0                   Glucose  0.314727\n",
       "1  DiabetesPedigreeFunction  0.157355\n",
       "2                       BMI  0.151959\n",
       "3                       Age  0.125286\n",
       "4             BloodPressure  0.097290\n",
       "5               Pregnancies  0.060308\n",
       "6             SkinThickness  0.058761\n",
       "7                   Insulin  0.034314"
      ]
     },
     "execution_count": 25,
     "metadata": {},
     "output_type": "execute_result"
    }
   ],
   "source": [
    "#if i want to compare the ig value coming out or which feature \n",
    "#for that creating a df object\n",
    "dict={'input':x.columns,'ig':dt.feature_importances_}\n",
    "df1=pd.DataFrame(dict)\n",
    "df1.sort_values('ig',axis=0,ascending=False,ignore_index=True)"
   ]
  },
  {
   "cell_type": "code",
   "execution_count": 26,
   "id": "00b07aa7",
   "metadata": {},
   "outputs": [
    {
     "data": {
      "text/html": [
       "<div>\n",
       "<style scoped>\n",
       "    .dataframe tbody tr th:only-of-type {\n",
       "        vertical-align: middle;\n",
       "    }\n",
       "\n",
       "    .dataframe tbody tr th {\n",
       "        vertical-align: top;\n",
       "    }\n",
       "\n",
       "    .dataframe thead th {\n",
       "        text-align: right;\n",
       "    }\n",
       "</style>\n",
       "<table border=\"1\" class=\"dataframe\">\n",
       "  <thead>\n",
       "    <tr style=\"text-align: right;\">\n",
       "      <th></th>\n",
       "      <th>input</th>\n",
       "      <th>ig</th>\n",
       "    </tr>\n",
       "  </thead>\n",
       "  <tbody>\n",
       "    <tr>\n",
       "      <th>0</th>\n",
       "      <td>Pregnancies</td>\n",
       "      <td>0.060308</td>\n",
       "    </tr>\n",
       "    <tr>\n",
       "      <th>1</th>\n",
       "      <td>Glucose</td>\n",
       "      <td>0.314727</td>\n",
       "    </tr>\n",
       "    <tr>\n",
       "      <th>2</th>\n",
       "      <td>BloodPressure</td>\n",
       "      <td>0.097290</td>\n",
       "    </tr>\n",
       "    <tr>\n",
       "      <th>3</th>\n",
       "      <td>SkinThickness</td>\n",
       "      <td>0.058761</td>\n",
       "    </tr>\n",
       "    <tr>\n",
       "      <th>4</th>\n",
       "      <td>Insulin</td>\n",
       "      <td>0.034314</td>\n",
       "    </tr>\n",
       "    <tr>\n",
       "      <th>5</th>\n",
       "      <td>BMI</td>\n",
       "      <td>0.151959</td>\n",
       "    </tr>\n",
       "    <tr>\n",
       "      <th>6</th>\n",
       "      <td>DiabetesPedigreeFunction</td>\n",
       "      <td>0.157355</td>\n",
       "    </tr>\n",
       "    <tr>\n",
       "      <th>7</th>\n",
       "      <td>Age</td>\n",
       "      <td>0.125286</td>\n",
       "    </tr>\n",
       "  </tbody>\n",
       "</table>\n",
       "</div>"
      ],
      "text/plain": [
       "                      input        ig\n",
       "0               Pregnancies  0.060308\n",
       "1                   Glucose  0.314727\n",
       "2             BloodPressure  0.097290\n",
       "3             SkinThickness  0.058761\n",
       "4                   Insulin  0.034314\n",
       "5                       BMI  0.151959\n",
       "6  DiabetesPedigreeFunction  0.157355\n",
       "7                       Age  0.125286"
      ]
     },
     "execution_count": 26,
     "metadata": {},
     "output_type": "execute_result"
    }
   ],
   "source": [
    "df1"
   ]
  },
  {
   "cell_type": "code",
   "execution_count": 27,
   "id": "35c596f8",
   "metadata": {},
   "outputs": [
    {
     "data": {
      "image/png": "[encoded data removed]",
      "text/plain": [
       "<Figure size 1152x1368 with 1 Axes>"
      ]
     },
     "metadata": {
      "needs_background": "light"
     },
     "output_type": "display_data"
    }
   ],
   "source": [
    "#create a tree\n",
    "from sklearn import tree\n",
    "plt.figure(figsize=(16,19))\n",
    "features=x.columns\n",
    "_=tree.plot_tree(dt,feature_names=features,filled=True)"
   ]
  },
  {
   "cell_type": "code",
   "execution_count": null,
   "id": "b41a2869",
   "metadata": {},
   "outputs": [],
   "source": []
  },
  {
   "cell_type": "markdown",
   "id": "965bebd8",
   "metadata": {},
   "source": [
    "# pruning technique"
   ]
  },
  {
   "cell_type": "code",
   "execution_count": 28,
   "id": "1c5b8c35",
   "metadata": {},
   "outputs": [],
   "source": [
    "\n",
    "#we use puruning tech for reduced the overfiting.\n",
    "dt1=DecisionTreeClassifier(max_depth=4,random_state=1)"
   ]
  },
  {
   "cell_type": "code",
   "execution_count": 29,
   "id": "da082039",
   "metadata": {},
   "outputs": [
    {
     "name": "stdout",
     "output_type": "stream",
     "text": [
      "              precision    recall  f1-score   support\n",
      "\n",
      "           0       0.88      0.68      0.76       154\n",
      "           1       0.53      0.80      0.64        70\n",
      "\n",
      "    accuracy                           0.71       224\n",
      "   macro avg       0.70      0.74      0.70       224\n",
      "weighted avg       0.77      0.71      0.72       224\n",
      "\n",
      "[[104  50]\n",
      " [ 14  56]]\n"
     ]
    }
   ],
   "source": [
    "#generate the classification report\n",
    "dt1=create_model(dt1)"
   ]
  },
  {
   "cell_type": "markdown",
   "id": "556f28b4",
   "metadata": {},
   "source": [
    "# observation:\n",
    "    in decision tree pruning technique the recall accuracy is \n",
    "    0:68    \n",
    "    1:80\n",
    " the accuracy is good.       "
   ]
  },
  {
   "cell_type": "code",
   "execution_count": 30,
   "id": "877fef4a",
   "metadata": {},
   "outputs": [
    {
     "data": {
      "image/png": "[encoded data removed]",
      "text/plain": [
       "<Figure size 504x504 with 1 Axes>"
      ]
     },
     "metadata": {
      "needs_background": "light"
     },
     "output_type": "display_data"
    }
   ],
   "source": [
    "#create the tree\n",
    "from sklearn import tree\n",
    "plt.figure(figsize=(7,7))\n",
    "features=x.columns\n",
    "_=tree.plot_tree(dt1,feature_names=features,filled=True)"
   ]
  },
  {
   "cell_type": "code",
   "execution_count": 31,
   "id": "de96540f",
   "metadata": {},
   "outputs": [
    {
     "data": {
      "text/plain": [
       "array([0.        , 0.56559613, 0.        , 0.        , 0.01980196,\n",
       "       0.20982281, 0.06448554, 0.14029356])"
      ]
     },
     "execution_count": 31,
     "metadata": {},
     "output_type": "execute_result"
    }
   ],
   "source": [
    "#if i want to check the information gain value return to DecisionTreeClassifier class object\n",
    "dt1.feature_importances_"
   ]
  },
  {
   "cell_type": "code",
   "execution_count": 32,
   "id": "9a0f69da",
   "metadata": {},
   "outputs": [
    {
     "data": {
      "text/html": [
       "<div>\n",
       "<style scoped>\n",
       "    .dataframe tbody tr th:only-of-type {\n",
       "        vertical-align: middle;\n",
       "    }\n",
       "\n",
       "    .dataframe tbody tr th {\n",
       "        vertical-align: top;\n",
       "    }\n",
       "\n",
       "    .dataframe thead th {\n",
       "        text-align: right;\n",
       "    }\n",
       "</style>\n",
       "<table border=\"1\" class=\"dataframe\">\n",
       "  <thead>\n",
       "    <tr style=\"text-align: right;\">\n",
       "      <th></th>\n",
       "      <th>input</th>\n",
       "      <th>ig</th>\n",
       "    </tr>\n",
       "  </thead>\n",
       "  <tbody>\n",
       "    <tr>\n",
       "      <th>0</th>\n",
       "      <td>Glucose</td>\n",
       "      <td>0.565596</td>\n",
       "    </tr>\n",
       "    <tr>\n",
       "      <th>1</th>\n",
       "      <td>BMI</td>\n",
       "      <td>0.209823</td>\n",
       "    </tr>\n",
       "    <tr>\n",
       "      <th>2</th>\n",
       "      <td>Age</td>\n",
       "      <td>0.140294</td>\n",
       "    </tr>\n",
       "    <tr>\n",
       "      <th>3</th>\n",
       "      <td>DiabetesPedigreeFunction</td>\n",
       "      <td>0.064486</td>\n",
       "    </tr>\n",
       "    <tr>\n",
       "      <th>4</th>\n",
       "      <td>Insulin</td>\n",
       "      <td>0.019802</td>\n",
       "    </tr>\n",
       "    <tr>\n",
       "      <th>5</th>\n",
       "      <td>Pregnancies</td>\n",
       "      <td>0.000000</td>\n",
       "    </tr>\n",
       "    <tr>\n",
       "      <th>6</th>\n",
       "      <td>BloodPressure</td>\n",
       "      <td>0.000000</td>\n",
       "    </tr>\n",
       "    <tr>\n",
       "      <th>7</th>\n",
       "      <td>SkinThickness</td>\n",
       "      <td>0.000000</td>\n",
       "    </tr>\n",
       "  </tbody>\n",
       "</table>\n",
       "</div>"
      ],
      "text/plain": [
       "                      input        ig\n",
       "0                   Glucose  0.565596\n",
       "1                       BMI  0.209823\n",
       "2                       Age  0.140294\n",
       "3  DiabetesPedigreeFunction  0.064486\n",
       "4                   Insulin  0.019802\n",
       "5               Pregnancies  0.000000\n",
       "6             BloodPressure  0.000000\n",
       "7             SkinThickness  0.000000"
      ]
     },
     "execution_count": 32,
     "metadata": {},
     "output_type": "execute_result"
    }
   ],
   "source": [
    "#if i want to compare the ig value coming out or which feature \n",
    "#it achieve by creating a df2 object\n",
    "dict1={'input':x.columns,'ig':dt1.feature_importances_}\n",
    "df2=pd.DataFrame(dict1)\n",
    "df2\n",
    "df2.sort_values('ig',axis=0,ascending=False,ignore_index=True)"
   ]
  },
  {
   "cell_type": "code",
   "execution_count": 33,
   "id": "b846489e",
   "metadata": {},
   "outputs": [
    {
     "data": {
      "text/plain": [
       "\"for i in range(45,101):\\n    #preparing the model by calling the class\\n    dt2=DecisionTreeClassifier(random_state=1,min_samples_leaf=i)\\n    print('no of min sample leaf: ',i)\\n    #now training the model and testing the model and getting classification rport of model\\n    #by calling the function passing the argument as DecisionTreeClassifier object\\n    dt2=create_model(dt2)\\n    dt2\\n    print()\""
      ]
     },
     "execution_count": 33,
     "metadata": {},
     "output_type": "execute_result"
    }
   ],
   "source": [
    "#so its hit and trial method\n",
    "#finding out what no of depth we r getting recall accuracy better compare to others\n",
    "'''for i in range(45,101):\n",
    "    #preparing the model by calling the class\n",
    "    dt2=DecisionTreeClassifier(random_state=1,min_samples_leaf=i)\n",
    "    print('no of min sample leaf: ',i)\n",
    "    #now training the model and testing the model and getting classification rport of model\n",
    "    #by calling the function passing the argument as DecisionTreeClassifier object\n",
    "    dt2=create_model(dt2)\n",
    "    dt2\n",
    "    print()'''\n",
    "   #here in min_sample_leaf=46 there 0 : 78 and 1: 69 its good accuarcy."
   ]
  },
  {
   "cell_type": "code",
   "execution_count": 34,
   "id": "f64fa8a4",
   "metadata": {},
   "outputs": [
    {
     "name": "stdout",
     "output_type": "stream",
     "text": [
      "              precision    recall  f1-score   support\n",
      "\n",
      "           0       0.85      0.78      0.81       154\n",
      "           1       0.59      0.69      0.63        70\n",
      "\n",
      "    accuracy                           0.75       224\n",
      "   macro avg       0.72      0.73      0.72       224\n",
      "weighted avg       0.76      0.75      0.75       224\n",
      "\n",
      "[[120  34]\n",
      " [ 22  48]]\n"
     ]
    }
   ],
   "source": [
    "dt2=DecisionTreeClassifier(random_state=1,min_samples_leaf=46)\n",
    "#generate the classification report\n",
    "dt2=create_model(dt2)"
   ]
  },
  {
   "cell_type": "code",
   "execution_count": 35,
   "id": "be8c1e73",
   "metadata": {},
   "outputs": [
    {
     "data": {
      "text/html": [
       "<div>\n",
       "<style scoped>\n",
       "    .dataframe tbody tr th:only-of-type {\n",
       "        vertical-align: middle;\n",
       "    }\n",
       "\n",
       "    .dataframe tbody tr th {\n",
       "        vertical-align: top;\n",
       "    }\n",
       "\n",
       "    .dataframe thead th {\n",
       "        text-align: right;\n",
       "    }\n",
       "</style>\n",
       "<table border=\"1\" class=\"dataframe\">\n",
       "  <thead>\n",
       "    <tr style=\"text-align: right;\">\n",
       "      <th></th>\n",
       "      <th>input</th>\n",
       "      <th>ig</th>\n",
       "    </tr>\n",
       "  </thead>\n",
       "  <tbody>\n",
       "    <tr>\n",
       "      <th>0</th>\n",
       "      <td>Glucose</td>\n",
       "      <td>0.678041</td>\n",
       "    </tr>\n",
       "    <tr>\n",
       "      <th>1</th>\n",
       "      <td>Age</td>\n",
       "      <td>0.176418</td>\n",
       "    </tr>\n",
       "    <tr>\n",
       "      <th>2</th>\n",
       "      <td>BMI</td>\n",
       "      <td>0.133825</td>\n",
       "    </tr>\n",
       "    <tr>\n",
       "      <th>3</th>\n",
       "      <td>DiabetesPedigreeFunction</td>\n",
       "      <td>0.011716</td>\n",
       "    </tr>\n",
       "    <tr>\n",
       "      <th>4</th>\n",
       "      <td>Pregnancies</td>\n",
       "      <td>0.000000</td>\n",
       "    </tr>\n",
       "    <tr>\n",
       "      <th>5</th>\n",
       "      <td>BloodPressure</td>\n",
       "      <td>0.000000</td>\n",
       "    </tr>\n",
       "    <tr>\n",
       "      <th>6</th>\n",
       "      <td>SkinThickness</td>\n",
       "      <td>0.000000</td>\n",
       "    </tr>\n",
       "    <tr>\n",
       "      <th>7</th>\n",
       "      <td>Insulin</td>\n",
       "      <td>0.000000</td>\n",
       "    </tr>\n",
       "  </tbody>\n",
       "</table>\n",
       "</div>"
      ],
      "text/plain": [
       "                      input        ig\n",
       "0                   Glucose  0.678041\n",
       "1                       Age  0.176418\n",
       "2                       BMI  0.133825\n",
       "3  DiabetesPedigreeFunction  0.011716\n",
       "4               Pregnancies  0.000000\n",
       "5             BloodPressure  0.000000\n",
       "6             SkinThickness  0.000000\n",
       "7                   Insulin  0.000000"
      ]
     },
     "execution_count": 35,
     "metadata": {},
     "output_type": "execute_result"
    }
   ],
   "source": [
    "dict3={'input':x.columns,'ig':dt2.feature_importances_}\n",
    "df3=pd.DataFrame(dict3)\n",
    "df3.sort_values('ig',axis=0,ascending=False,ignore_index=True)"
   ]
  },
  {
   "cell_type": "raw",
   "id": "a07c9f76",
   "metadata": {},
   "source": [
    "observation:\n",
    "    in min_sample_leaf the important input are \n",
    "    1)Glucose:0.678041\n",
    "    2)Age:0.176418\n",
    "    3)BMI:0.133825\n",
    "    4)DiabetesPedigreeFunction:0.011716"
   ]
  },
  {
   "cell_type": "markdown",
   "id": "c41641b0",
   "metadata": {},
   "source": [
    "# entropy method."
   ]
  },
  {
   "cell_type": "code",
   "execution_count": 36,
   "id": "0de84da3",
   "metadata": {},
   "outputs": [
    {
     "name": "stdout",
     "output_type": "stream",
     "text": [
      "              precision    recall  f1-score   support\n",
      "\n",
      "           0       0.80      0.82      0.81       154\n",
      "           1       0.58      0.54      0.56        70\n",
      "\n",
      "    accuracy                           0.74       224\n",
      "   macro avg       0.69      0.68      0.69       224\n",
      "weighted avg       0.73      0.74      0.73       224\n",
      "\n",
      "[[127  27]\n",
      " [ 32  38]]\n"
     ]
    }
   ],
   "source": [
    "# again doing feature selection by dtclassiiferalgo by using entropy method\n",
    "#create the object of DecisionTreeClassifier\n",
    "dte=DecisionTreeClassifier(random_state=1,criterion='entropy')\n",
    "#generate the report\n",
    "dte=create_model(dte)"
   ]
  },
  {
   "cell_type": "code",
   "execution_count": 37,
   "id": "6c9280fb",
   "metadata": {},
   "outputs": [
    {
     "data": {
      "text/plain": [
       "\"\\nfor i in range(8,0,-1):\\n    #preparing the model\\n    dte=DecisionTreeClassifier(random_state=1,criterion='entropy',max_depth=i)\\n    print('max depth :',i)\\n    #calling function\\n    dte=create_model(dte)\\n    dte\\n    print()\""
      ]
     },
     "execution_count": 37,
     "metadata": {},
     "output_type": "execute_result"
    }
   ],
   "source": [
    "#we do pruning tech with help of entropy.\n",
    "#so its hit and trial method\n",
    "#finding out what no of depth we r getting recall accuracy better compare to others\n",
    "'''\n",
    "for i in range(8,0,-1):\n",
    "    #preparing the model\n",
    "    dte=DecisionTreeClassifier(random_state=1,criterion='entropy',max_depth=i)\n",
    "    print('max depth :',i)\n",
    "    #calling function\n",
    "    dte=create_model(dte)\n",
    "    dte\n",
    "    print()'''\n",
    "    #here max_depth=7 0:73 ,1:66"
   ]
  },
  {
   "cell_type": "code",
   "execution_count": 38,
   "id": "07d3ebe8",
   "metadata": {},
   "outputs": [
    {
     "name": "stdout",
     "output_type": "stream",
     "text": [
      "              precision    recall  f1-score   support\n",
      "\n",
      "           0       0.88      0.69      0.78       154\n",
      "           1       0.54      0.79      0.64        70\n",
      "\n",
      "    accuracy                           0.72       224\n",
      "   macro avg       0.71      0.74      0.71       224\n",
      "weighted avg       0.77      0.72      0.73       224\n",
      "\n",
      "[[107  47]\n",
      " [ 15  55]]\n"
     ]
    }
   ],
   "source": [
    "dte1=DecisionTreeClassifier(random_state=1,max_depth=4,criterion='entropy')\n",
    "#generate the report.\n",
    "dte1=create_model(dte1)"
   ]
  },
  {
   "cell_type": "code",
   "execution_count": 39,
   "id": "80808824",
   "metadata": {},
   "outputs": [
    {
     "data": {
      "text/plain": [
       "Index(['Pregnancies', 'Glucose', 'BloodPressure', 'SkinThickness', 'Insulin',\n",
       "       'BMI', 'DiabetesPedigreeFunction', 'Age'],\n",
       "      dtype='object')"
      ]
     },
     "execution_count": 39,
     "metadata": {},
     "output_type": "execute_result"
    }
   ],
   "source": [
    "x.columns"
   ]
  },
  {
   "cell_type": "code",
   "execution_count": 40,
   "id": "cdc65c58",
   "metadata": {},
   "outputs": [
    {
     "data": {
      "text/plain": [
       "array([0.02428828, 0.51525095, 0.        , 0.03100574, 0.04424151,\n",
       "       0.26131594, 0.03164161, 0.09225598])"
      ]
     },
     "execution_count": 40,
     "metadata": {},
     "output_type": "execute_result"
    }
   ],
   "source": [
    "#import feature in dte1.\n",
    "dte1.feature_importances_"
   ]
  },
  {
   "cell_type": "code",
   "execution_count": 41,
   "id": "cc19a5b1",
   "metadata": {},
   "outputs": [
    {
     "data": {
      "text/html": [
       "<div>\n",
       "<style scoped>\n",
       "    .dataframe tbody tr th:only-of-type {\n",
       "        vertical-align: middle;\n",
       "    }\n",
       "\n",
       "    .dataframe tbody tr th {\n",
       "        vertical-align: top;\n",
       "    }\n",
       "\n",
       "    .dataframe thead th {\n",
       "        text-align: right;\n",
       "    }\n",
       "</style>\n",
       "<table border=\"1\" class=\"dataframe\">\n",
       "  <thead>\n",
       "    <tr style=\"text-align: right;\">\n",
       "      <th></th>\n",
       "      <th>input</th>\n",
       "      <th>ig</th>\n",
       "    </tr>\n",
       "  </thead>\n",
       "  <tbody>\n",
       "    <tr>\n",
       "      <th>0</th>\n",
       "      <td>Glucose</td>\n",
       "      <td>0.515251</td>\n",
       "    </tr>\n",
       "    <tr>\n",
       "      <th>1</th>\n",
       "      <td>BMI</td>\n",
       "      <td>0.261316</td>\n",
       "    </tr>\n",
       "    <tr>\n",
       "      <th>2</th>\n",
       "      <td>Age</td>\n",
       "      <td>0.092256</td>\n",
       "    </tr>\n",
       "    <tr>\n",
       "      <th>3</th>\n",
       "      <td>Insulin</td>\n",
       "      <td>0.044242</td>\n",
       "    </tr>\n",
       "    <tr>\n",
       "      <th>4</th>\n",
       "      <td>DiabetesPedigreeFunction</td>\n",
       "      <td>0.031642</td>\n",
       "    </tr>\n",
       "    <tr>\n",
       "      <th>5</th>\n",
       "      <td>SkinThickness</td>\n",
       "      <td>0.031006</td>\n",
       "    </tr>\n",
       "    <tr>\n",
       "      <th>6</th>\n",
       "      <td>Pregnancies</td>\n",
       "      <td>0.024288</td>\n",
       "    </tr>\n",
       "    <tr>\n",
       "      <th>7</th>\n",
       "      <td>BloodPressure</td>\n",
       "      <td>0.000000</td>\n",
       "    </tr>\n",
       "  </tbody>\n",
       "</table>\n",
       "</div>"
      ],
      "text/plain": [
       "                      input        ig\n",
       "0                   Glucose  0.515251\n",
       "1                       BMI  0.261316\n",
       "2                       Age  0.092256\n",
       "3                   Insulin  0.044242\n",
       "4  DiabetesPedigreeFunction  0.031642\n",
       "5             SkinThickness  0.031006\n",
       "6               Pregnancies  0.024288\n",
       "7             BloodPressure  0.000000"
      ]
     },
     "execution_count": 41,
     "metadata": {},
     "output_type": "execute_result"
    }
   ],
   "source": [
    "#if i want to compare the ig value coming out or which feature \n",
    "#it achieve by creating a dfe object\n",
    "dicte={'input':x.columns,'ig':dte1.feature_importances_}\n",
    "dfe=pd.DataFrame(dicte)\n",
    "dfe.sort_values('ig',axis=0,ascending=False,ignore_index=True)"
   ]
  },
  {
   "cell_type": "raw",
   "id": "33cefec9",
   "metadata": {},
   "source": [
    "observation:\n",
    "in entropy using max_depth there BloodPressure col is  not important"
   ]
  },
  {
   "cell_type": "code",
   "execution_count": 42,
   "id": "22071cc9",
   "metadata": {},
   "outputs": [
    {
     "data": {
      "text/plain": [
       "\"\\nfor i in range(45,101,1):\\n    #preparing the model\\n    dtee=DecisionTreeClassifier(random_state=1,criterion='entropy',min_samples_leaf=i)\\n    print('min_samples_leaf :',i)\\n    #calling function\\n    dtee=create_model(dtee)\\n    dtee\\n    print()\\n    \""
      ]
     },
     "execution_count": 42,
     "metadata": {},
     "output_type": "execute_result"
    }
   ],
   "source": [
    "#we r finding out at what no of mn samples leaf we r getting recall accuracy good compare to others\n",
    "'''\n",
    "for i in range(45,101,1):\n",
    "    #preparing the model\n",
    "    dtee=DecisionTreeClassifier(random_state=1,criterion='entropy',min_samples_leaf=i)\n",
    "    print('min_samples_leaf :',i)\n",
    "    #calling function\n",
    "    dtee=create_model(dtee)\n",
    "    dtee\n",
    "    print()\n",
    "    '''\n",
    "#here min_samples_leaf=46 1:69 and 0:79"
   ]
  },
  {
   "cell_type": "code",
   "execution_count": 43,
   "id": "ffb26a4e",
   "metadata": {},
   "outputs": [
    {
     "name": "stdout",
     "output_type": "stream",
     "text": [
      "              precision    recall  f1-score   support\n",
      "\n",
      "           0       0.89      0.69      0.78       154\n",
      "           1       0.55      0.81      0.66        70\n",
      "\n",
      "    accuracy                           0.73       224\n",
      "   macro avg       0.72      0.75      0.72       224\n",
      "weighted avg       0.78      0.73      0.74       224\n",
      "\n",
      "[[107  47]\n",
      " [ 13  57]]\n"
     ]
    },
    {
     "data": {
      "text/html": [
       "<style>#sk-container-id-1 {color: black;background-color: white;}#sk-container-id-1 pre{padding: 0;}#sk-container-id-1 div.sk-toggleable {background-color: white;}#sk-container-id-1 label.sk-toggleable__label {cursor: pointer;display: block;width: 100%;margin-bottom: 0;padding: 0.3em;box-sizing: border-box;text-align: center;}#sk-container-id-1 label.sk-toggleable__label-arrow:before {content: \"▸\";float: left;margin-right: 0.25em;color: #696969;}#sk-container-id-1 label.sk-toggleable__label-arrow:hover:before {color: black;}#sk-container-id-1 div.sk-estimator:hover label.sk-toggleable__label-arrow:before {color: black;}#sk-container-id-1 div.sk-toggleable__content {max-height: 0;max-width: 0;overflow: hidden;text-align: left;background-color: #f0f8ff;}#sk-container-id-1 div.sk-toggleable__content pre {margin: 0.2em;color: black;border-radius: 0.25em;background-color: #f0f8ff;}#sk-container-id-1 input.sk-toggleable__control:checked~div.sk-toggleable__content {max-height: 200px;max-width: 100%;overflow: auto;}#sk-container-id-1 input.sk-toggleable__control:checked~label.sk-toggleable__label-arrow:before {content: \"▾\";}#sk-container-id-1 div.sk-estimator input.sk-toggleable__control:checked~label.sk-toggleable__label {background-color: #d4ebff;}#sk-container-id-1 div.sk-label input.sk-toggleable__control:checked~label.sk-toggleable__label {background-color: #d4ebff;}#sk-container-id-1 input.sk-hidden--visually {border: 0;clip: rect(1px 1px 1px 1px);clip: rect(1px, 1px, 1px, 1px);height: 1px;margin: -1px;overflow: hidden;padding: 0;position: absolute;width: 1px;}#sk-container-id-1 div.sk-estimator {font-family: monospace;background-color: #f0f8ff;border: 1px dotted black;border-radius: 0.25em;box-sizing: border-box;margin-bottom: 0.5em;}#sk-container-id-1 div.sk-estimator:hover {background-color: #d4ebff;}#sk-container-id-1 div.sk-parallel-item::after {content: \"\";width: 100%;border-bottom: 1px solid gray;flex-grow: 1;}#sk-container-id-1 div.sk-label:hover label.sk-toggleable__label {background-color: #d4ebff;}#sk-container-id-1 div.sk-serial::before {content: \"\";position: absolute;border-left: 1px solid gray;box-sizing: border-box;top: 0;bottom: 0;left: 50%;z-index: 0;}#sk-container-id-1 div.sk-serial {display: flex;flex-direction: column;align-items: center;background-color: white;padding-right: 0.2em;padding-left: 0.2em;position: relative;}#sk-container-id-1 div.sk-item {position: relative;z-index: 1;}#sk-container-id-1 div.sk-parallel {display: flex;align-items: stretch;justify-content: center;background-color: white;position: relative;}#sk-container-id-1 div.sk-item::before, #sk-container-id-1 div.sk-parallel-item::before {content: \"\";position: absolute;border-left: 1px solid gray;box-sizing: border-box;top: 0;bottom: 0;left: 50%;z-index: -1;}#sk-container-id-1 div.sk-parallel-item {display: flex;flex-direction: column;z-index: 1;position: relative;background-color: white;}#sk-container-id-1 div.sk-parallel-item:first-child::after {align-self: flex-end;width: 50%;}#sk-container-id-1 div.sk-parallel-item:last-child::after {align-self: flex-start;width: 50%;}#sk-container-id-1 div.sk-parallel-item:only-child::after {width: 0;}#sk-container-id-1 div.sk-dashed-wrapped {border: 1px dashed gray;margin: 0 0.4em 0.5em 0.4em;box-sizing: border-box;padding-bottom: 0.4em;background-color: white;}#sk-container-id-1 div.sk-label label {font-family: monospace;font-weight: bold;display: inline-block;line-height: 1.2em;}#sk-container-id-1 div.sk-label-container {text-align: center;}#sk-container-id-1 div.sk-container {/* jupyter's `normalize.less` sets `[hidden] { display: none; }` but bootstrap.min.css set `[hidden] { display: none !important; }` so we also need the `!important` here to be able to override the default hidden behavior on the sphinx rendered scikit-learn.org. See: https://github.com/scikit-learn/scikit-learn/issues/21755 */display: inline-block !important;position: relative;}#sk-container-id-1 div.sk-text-repr-fallback {display: none;}</style><div id=\"sk-container-id-1\" class=\"sk-top-container\"><div class=\"sk-text-repr-fallback\"><pre>DecisionTreeClassifier(criterion=&#x27;entropy&#x27;, min_samples_leaf=61, random_state=1)</pre><b>In a Jupyter environment, please rerun this cell to show the HTML representation or trust the notebook. <br />On GitHub, the HTML representation is unable to render, please try loading this page with nbviewer.org.</b></div><div class=\"sk-container\" hidden><div class=\"sk-item\"><div class=\"sk-estimator sk-toggleable\"><input class=\"sk-toggleable__control sk-hidden--visually\" id=\"sk-estimator-id-1\" type=\"checkbox\" checked><label for=\"sk-estimator-id-1\" class=\"sk-toggleable__label sk-toggleable__label-arrow\">DecisionTreeClassifier</label><div class=\"sk-toggleable__content\"><pre>DecisionTreeClassifier(criterion=&#x27;entropy&#x27;, min_samples_leaf=61, random_state=1)</pre></div></div></div></div></div>"
      ],
      "text/plain": [
       "DecisionTreeClassifier(criterion='entropy', min_samples_leaf=61, random_state=1)"
      ]
     },
     "execution_count": 43,
     "metadata": {},
     "output_type": "execute_result"
    }
   ],
   "source": [
    "#preparing the model\n",
    "#calling the class\n",
    "dte2=DecisionTreeClassifier(random_state=1,min_samples_leaf=61,criterion='entropy')\n",
    "#calling function\n",
    "dte2=create_model(dte2)\n",
    "dte2"
   ]
  },
  {
   "cell_type": "code",
   "execution_count": 44,
   "id": "dc344700",
   "metadata": {},
   "outputs": [
    {
     "data": {
      "text/html": [
       "<div>\n",
       "<style scoped>\n",
       "    .dataframe tbody tr th:only-of-type {\n",
       "        vertical-align: middle;\n",
       "    }\n",
       "\n",
       "    .dataframe tbody tr th {\n",
       "        vertical-align: top;\n",
       "    }\n",
       "\n",
       "    .dataframe thead th {\n",
       "        text-align: right;\n",
       "    }\n",
       "</style>\n",
       "<table border=\"1\" class=\"dataframe\">\n",
       "  <thead>\n",
       "    <tr style=\"text-align: right;\">\n",
       "      <th></th>\n",
       "      <th>input</th>\n",
       "      <th>ig</th>\n",
       "    </tr>\n",
       "  </thead>\n",
       "  <tbody>\n",
       "    <tr>\n",
       "      <th>0</th>\n",
       "      <td>Glucose</td>\n",
       "      <td>0.623470</td>\n",
       "    </tr>\n",
       "    <tr>\n",
       "      <th>1</th>\n",
       "      <td>BMI</td>\n",
       "      <td>0.256600</td>\n",
       "    </tr>\n",
       "    <tr>\n",
       "      <th>2</th>\n",
       "      <td>Age</td>\n",
       "      <td>0.119931</td>\n",
       "    </tr>\n",
       "    <tr>\n",
       "      <th>3</th>\n",
       "      <td>Pregnancies</td>\n",
       "      <td>0.000000</td>\n",
       "    </tr>\n",
       "    <tr>\n",
       "      <th>4</th>\n",
       "      <td>BloodPressure</td>\n",
       "      <td>0.000000</td>\n",
       "    </tr>\n",
       "    <tr>\n",
       "      <th>5</th>\n",
       "      <td>SkinThickness</td>\n",
       "      <td>0.000000</td>\n",
       "    </tr>\n",
       "    <tr>\n",
       "      <th>6</th>\n",
       "      <td>Insulin</td>\n",
       "      <td>0.000000</td>\n",
       "    </tr>\n",
       "    <tr>\n",
       "      <th>7</th>\n",
       "      <td>DiabetesPedigreeFunction</td>\n",
       "      <td>0.000000</td>\n",
       "    </tr>\n",
       "  </tbody>\n",
       "</table>\n",
       "</div>"
      ],
      "text/plain": [
       "                      input        ig\n",
       "0                   Glucose  0.623470\n",
       "1                       BMI  0.256600\n",
       "2                       Age  0.119931\n",
       "3               Pregnancies  0.000000\n",
       "4             BloodPressure  0.000000\n",
       "5             SkinThickness  0.000000\n",
       "6                   Insulin  0.000000\n",
       "7  DiabetesPedigreeFunction  0.000000"
      ]
     },
     "execution_count": 44,
     "metadata": {},
     "output_type": "execute_result"
    }
   ],
   "source": [
    "#if i want to compare the ig value coming out or which feature \n",
    "# creating a dfe 1object\n",
    "dicte1={'input':x.columns,'ig':dte2.feature_importances_}\n",
    "dfe1=pd.DataFrame(dicte1)\n",
    "dfe1.sort_values('ig',axis=0,ascending=False,ignore_index=True)"
   ]
  },
  {
   "cell_type": "raw",
   "id": "877797d5",
   "metadata": {},
   "source": [
    "observation:in entropy using min_samples_leaf the important input are\n",
    "0.Glucose:0.616373\n",
    "1.BMI:0.226624\n",
    "2.Age:0.105920\n",
    "3.DiabetesPedigreeFunction:0.029281\n",
    "4.SkinThickness:0.021801"
   ]
  },
  {
   "cell_type": "markdown",
   "id": "426de789",
   "metadata": {},
   "source": [
    "# esemble : 1.RandomForestClassifier"
   ]
  },
  {
   "cell_type": "code",
   "execution_count": 45,
   "id": "d7949a77",
   "metadata": {},
   "outputs": [],
   "source": [
    "#call the randomforestclassifier class in sklearn library.\n",
    "from sklearn.ensemble import RandomForestClassifier"
   ]
  },
  {
   "cell_type": "code",
   "execution_count": 46,
   "id": "78a68db6",
   "metadata": {},
   "outputs": [
    {
     "ename": "SyntaxError",
     "evalue": "invalid syntax (2770916956.py, line 13)",
     "output_type": "error",
     "traceback": [
      "\u001b[1;36m  Input \u001b[1;32mIn [46]\u001b[1;36m\u001b[0m\n\u001b[1;33m    in the above result there\u001b[0m\n\u001b[1;37m    ^\u001b[0m\n\u001b[1;31mSyntaxError\u001b[0m\u001b[1;31m:\u001b[0m invalid syntax\n"
     ]
    }
   ],
   "source": [
    "#using hit and trial method to find the max_features \n",
    "'''\n",
    "for i in range(9,0,-1):\n",
    "    #creating an object\n",
    "    rfc=RandomForestClassifier(n_estimators=10,max_features=i,random_state=1)\n",
    "    #by default gini index.\n",
    "    print('no of features:',i)\n",
    "    #calling a function\n",
    "    rfc=create_model(rfc)\n",
    "    rfc\n",
    "    print()\n",
    "    '''\n",
    "in the above result there "
   ]
  },
  {
   "cell_type": "code",
   "execution_count": null,
   "id": "df672ce9",
   "metadata": {},
   "outputs": [],
   "source": [
    "#create the object of class of RandomForestClassifier\n",
    "rfc=RandomForestClassifier(n_estimators=10,max_features=2,random_state=1)\n",
    "#n_estimators means take how many  no .of decisiontree.\n",
    "#max_features means take how many input."
   ]
  },
  {
   "cell_type": "code",
   "execution_count": null,
   "id": "f360a1fa",
   "metadata": {},
   "outputs": [],
   "source": [
    "rfc=create_model(rfc)"
   ]
  },
  {
   "cell_type": "raw",
   "id": "dd692c2c",
   "metadata": {},
   "source": [
    "observation:\n",
    "    in RandomForestClassifier the recall accuracy is\n",
    "    0:85\n",
    "    1:60\n",
    "The recall accuracy is not good .    "
   ]
  },
  {
   "cell_type": "markdown",
   "id": "fb5cbf61",
   "metadata": {},
   "source": [
    "# now apply RandomForestClassifier using entropy algo."
   ]
  },
  {
   "cell_type": "code",
   "execution_count": null,
   "id": "ce0fe751",
   "metadata": {},
   "outputs": [],
   "source": [
    "#using hit and trial method to find at minimum number of features\n",
    "'''\n",
    "for i in range(13,0,-1):\n",
    "    #creating an object\n",
    "    rfc=RandomForestClassifier(n_estimators=10,max_features=i,random_state=1,criterion='entropy')\n",
    "    #by default gini index.\n",
    "    print('no of features:',i)\n",
    "    #calling a function\n",
    "    rfc=create_model(rfc)\n",
    "    rfc\n",
    "    print()\n",
    "    '''"
   ]
  },
  {
   "cell_type": "code",
   "execution_count": null,
   "id": "eeef37f2",
   "metadata": {},
   "outputs": [],
   "source": [
    "rfc=RandomForestClassifier(n_estimators=10,max_features=7,random_state=1,criterion='entropy')"
   ]
  },
  {
   "cell_type": "code",
   "execution_count": null,
   "id": "3a79669b",
   "metadata": {},
   "outputs": [],
   "source": [
    "#generate the report\n",
    "rfc=create_model(rfc)"
   ]
  },
  {
   "cell_type": "markdown",
   "id": "6d86e41c",
   "metadata": {},
   "source": [
    "# 2.ADaboost Classifier"
   ]
  },
  {
   "cell_type": "code",
   "execution_count": null,
   "id": "a42a1361",
   "metadata": {},
   "outputs": [],
   "source": [
    "#call the class of AdaBoostclassifier \n",
    "from sklearn.ensemble import AdaBoostClassifier"
   ]
  },
  {
   "cell_type": "code",
   "execution_count": null,
   "id": "d162fd68",
   "metadata": {},
   "outputs": [],
   "source": [
    "#create the object of AdaBoostClassfier\n",
    "abc=AdaBoostClassifier()"
   ]
  },
  {
   "cell_type": "code",
   "execution_count": null,
   "id": "b0c7dc89",
   "metadata": {},
   "outputs": [],
   "source": [
    "#using hit and trial method to find at n_estimators \n",
    "\n",
    "for i in range(1,10,1):\n",
    "    #preparing the model\n",
    "    abc=AdaBoostClassifier(n_estimators=i,random_state=1)\n",
    "    print('no of decision stump',i)\n",
    "    #now trainging and testing and finding classification report by calling function\n",
    "    abc=create_model(abc)\n",
    "    abc\n",
    "    print()\n",
    " #n_estimators means how many decision stump\n",
    "#n_estimators<=100.\n",
    "#in decision stump 13 we get good recall accuacy."
   ]
  },
  {
   "cell_type": "code",
   "execution_count": null,
   "id": "6b0ec907",
   "metadata": {},
   "outputs": [],
   "source": [
    "abc=AdaBoostClassifier(n_estimators=5,random_state=1)"
   ]
  },
  {
   "cell_type": "code",
   "execution_count": null,
   "id": "fd15af36",
   "metadata": {},
   "outputs": [],
   "source": [
    "#generate the classification report\n",
    "abc=create_model(abc)"
   ]
  },
  {
   "cell_type": "raw",
   "id": "40630ce5",
   "metadata": {},
   "source": [
    "observation:\n",
    "    in AdaBoostClassifier the recall accuracy is \n",
    "    0:85\n",
    "    1:56\n",
    "The recall accuracy is not good.        "
   ]
  },
  {
   "cell_type": "markdown",
   "id": "eec9d1bd",
   "metadata": {},
   "source": [
    "# 3.GradientBoostingClassifier"
   ]
  },
  {
   "cell_type": "code",
   "execution_count": null,
   "id": "9ae70bcb",
   "metadata": {},
   "outputs": [],
   "source": [
    "#call the GradientBoostingClassifier class in sklearn.ensemble library\n",
    "from sklearn.ensemble import GradientBoostingClassifier\n",
    "#create the object of GradientBoostingClassifierb\n",
    "gb=GradientBoostingClassifier(n_estimators=23,random_state=1)\n",
    "gb=create_model(gb)\n"
   ]
  },
  {
   "cell_type": "raw",
   "id": "e627d5f9",
   "metadata": {},
   "source": [
    "observation:\n",
    "    in GradientBoosting the recall accuracy is \n",
    "    0:84\n",
    "    1:60\n",
    "        \n",
    "The recall accuracy is ok but not good."
   ]
  },
  {
   "cell_type": "code",
   "execution_count": null,
   "id": "cd9535a0",
   "metadata": {},
   "outputs": [],
   "source": [
    "'''\n",
    "for i in range(10,101):\n",
    "    #prpearing the model\n",
    "    #creating an object of GradientBoostingClassifier class\n",
    "    gb=GradientBoostingClassifier(n_estimators=i,random_state=1)\n",
    "    print('no of estimator of DT: ',i)\n",
    "    # #now trainging and testing and finding classification report by calling function\n",
    "    gb=create_model(gb)\n",
    "    gb\n",
    "    '''\n",
    "#the n_estimator =56 is 0:83 and 1:63"
   ]
  },
  {
   "cell_type": "markdown",
   "id": "e4adb6e7",
   "metadata": {},
   "source": [
    "# 4.Extremegradientboosting"
   ]
  },
  {
   "cell_type": "code",
   "execution_count": null,
   "id": "fdab2ec8",
   "metadata": {},
   "outputs": [],
   "source": [
    "pip install xgboost"
   ]
  },
  {
   "cell_type": "code",
   "execution_count": null,
   "id": "9b139089",
   "metadata": {},
   "outputs": [],
   "source": [
    "from xgboost import XGBClassifier"
   ]
  },
  {
   "cell_type": "code",
   "execution_count": null,
   "id": "98654bff",
   "metadata": {},
   "outputs": [],
   "source": [
    "'''\n",
    "for i in range(10,101,1):\n",
    "    #prparing the model\n",
    "    #creating the object of XGBClassifier class\n",
    "    #automatic overfitting: reg means regularization and alpha or lambda:\n",
    "    #hyperparameter\n",
    "    xgc=XGBClassifier(n_estimators=i,reg_alpha=1,random_state=1)\n",
    "    print('no of estimator',i)\n",
    "    #calling functon\n",
    "    xgc=create_model(xgc)\n",
    "    xgc\n",
    "    print()\n",
    "    '''"
   ]
  },
  {
   "cell_type": "code",
   "execution_count": null,
   "id": "b33f8e4b",
   "metadata": {},
   "outputs": [],
   "source": [
    "xgc=XGBClassifier(n_estimators=10,reg_alpha=1,random_state=1)\n",
    "#reg means regulization alpha means lambda :automatic overfiting\n",
    "#n_estimators "
   ]
  },
  {
   "cell_type": "code",
   "execution_count": null,
   "id": "e9c3239e",
   "metadata": {},
   "outputs": [],
   "source": [
    "#generate the report\n",
    "xgc=create_model(xgc)"
   ]
  },
  {
   "cell_type": "raw",
   "id": "720c00d4",
   "metadata": {},
   "source": [
    "# observation:\n",
    "    in XGBClassifier the  recall accuracy in n_estimator=10\n",
    "    0:82\n",
    "    1:66\n",
    "The recall accuracy is good but not thatgood."
   ]
  },
  {
   "cell_type": "code",
   "execution_count": null,
   "id": "01be9c91",
   "metadata": {},
   "outputs": [],
   "source": [
    "#CALL INBULIT CLASS.\n",
    "#LINER separabledta means linear kernal.\n",
    "from sklearn.svm import LinearSVC\n",
    "#linersvc means linear supoort vector classifier."
   ]
  },
  {
   "cell_type": "code",
   "execution_count": null,
   "id": "1ead931b",
   "metadata": {},
   "outputs": [],
   "source": [
    "#create a object for #create a object for  class\n",
    "svc=LinearSVC(random_state=1)#bydefalut hardmargin  ,supoose no outlier in my dataset."
   ]
  },
  {
   "cell_type": "code",
   "execution_count": null,
   "id": "37709760",
   "metadata": {},
   "outputs": [],
   "source": [
    "#getting report of model\n",
    "svc=create_model(svc)\n",
    "print(svc)"
   ]
  },
  {
   "cell_type": "code",
   "execution_count": null,
   "id": "19f32790",
   "metadata": {},
   "outputs": [],
   "source": [
    "svc1=LinearSVC(random_state=1,C=0.01)\n",
    "svc1=create_model(svc1)"
   ]
  },
  {
   "cell_type": "code",
   "execution_count": null,
   "id": "3818d1aa",
   "metadata": {},
   "outputs": [],
   "source": [
    "observation:\n",
    "    in supoort vector classifier after adding the error the recall accuracy of 0:86 & 1:60 \n",
    "    the accuracy is not good .and after error increaing the recall accuracy is changing so it is linear seperatable data."
   ]
  },
  {
   "cell_type": "code",
   "execution_count": null,
   "id": "9cd3fdb9",
   "metadata": {},
   "outputs": [],
   "source": []
  },
  {
   "cell_type": "code",
   "execution_count": null,
   "id": "3458b2ec",
   "metadata": {},
   "outputs": [],
   "source": []
  },
  {
   "cell_type": "markdown",
   "id": "d08e1a7f",
   "metadata": {},
   "source": [
    "# KNN algo"
   ]
  },
  {
   "cell_type": "code",
   "execution_count": null,
   "id": "814b4b8a",
   "metadata": {},
   "outputs": [],
   "source": [
    "#call the call of kneighborsClassifier.\n",
    "from sklearn.neighbors import KNeighborsClassifier\n",
    "#create the object of KNeighborsClassifier\n",
    "knc = KNeighborsClassifier(n_neighbors =5,metric='minkowski',p=2)\n",
    "#bydefault the n_neighbors is 5 (alway odd )\n",
    "#p=2 means eucliden metric.\n",
    "#genrate the report\n",
    "knc=create_model(knc)"
   ]
  },
  {
   "cell_type": "raw",
   "id": "45851765",
   "metadata": {},
   "source": [
    "observation:\n",
    "    in KNeighborsclassifier the recall accuracy is \n",
    "    0:84\n",
    "    1:56\n",
    "The recall accuracy is not good.        "
   ]
  },
  {
   "cell_type": "raw",
   "id": "72d87b39",
   "metadata": {},
   "source": [
    " conclusion:\n",
    "\n",
    "        1) In logistic Regression recall accuracy of 0:87 & 1:60 so the recall accuracy is not good .\n",
    "        \n",
    "        2) In DecisionTreeClassifier algorithm recall accuracy of 0:66 & 1:54 .the accuracy is good.\n",
    "        \n",
    "        3)In decision tree pruning technique the recall accuracy of 0:68 & 1:80 the accuracy is good.       \n",
    "        \n",
    "        4)In RandomForestClassifier the recall accuracy of 0:85& 1:60 .The recall accuracy is ok but             notgood.\n",
    "         \n",
    "        5) In AdaBoostClassifier the recall accuracy of 0:85 &1:56 .The recall accuracy is not good.        \n",
    "        6) In GradientBoosting the recall accuracy of 0:84 & 1:60 .The recall accuracy is ok but not              good.\n",
    "        7) In Extremegradientboosting  recall accuarcy of 0:82 & 1:66. The recall accuracy is good.\n",
    "         \n",
    "        8)In supoort vector classifier after adding the error the recall accuracy of 0:86 & 1:60 \n",
    "          the accuracy is not good .and after error increaing the recall accuracy is changing so it is           linear seperatable data.\n",
    "         \n",
    "        9)In KNeighborsclassifier the recall accuracy of  0:84 & 1:56 .The recall accuracy is not               good.        \n",
    "          \n",
    "        THe Decision tree pruning tech. recall accuarcy is good as comapre to all algorithm \n",
    "    0:68\n",
    "    1:80\n",
    "in  Decision tree pruning tech there are 14 wrongpredication.in other algorithum there are more wrong predication as comapre to  Decision tree pruning tech .so we consider Decision tree pruning."
   ]
  },
  {
   "cell_type": "code",
   "execution_count": null,
   "id": "a8503246",
   "metadata": {},
   "outputs": [],
   "source": []
  }
 ],
 "metadata": {
  "kernelspec": {
   "display_name": "Python 3 (ipykernel)",
   "language": "python",
   "name": "python3"
  },
  "language_info": {
   "codemirror_mode": {
    "name": "ipython",
    "version": 3
   },
   "file_extension": ".py",
   "mimetype": "text/x-python",
   "name": "python",
   "nbconvert_exporter": "python",
   "pygments_lexer": "ipython3",
   "version": "3.9.12"
  }
 },
 "nbformat": 4,
 "nbformat_minor": 5
}
